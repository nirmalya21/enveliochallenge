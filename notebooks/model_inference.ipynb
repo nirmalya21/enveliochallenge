{
 "cells": [
  {
   "cell_type": "markdown",
   "id": "7a4b7b45-9644-43ac-b906-2231a869f309",
   "metadata": {},
   "source": [
    "# Model Inference Notebook\n",
    "1. **Model Loading & Preprocessing:**  \n",
    "   - Load the saved model.\n",
    "   - Replicate any necessary preprocessing steps.\n",
    "2. **Inference and Forecasting:**  \n",
    "   - Demonstrate how to perform inference/forecasting on new data.\n",
    "   - Clearly explain each step in the inference process.\n",
    "3. **Practical Considerations:**  \n",
    "   - Optionally, discuss potential improvements, limitations, and next steps\n",
    "     (e.g., include a \"Next Steps / Future Work\" section).\n",
    "   - **Important:** Include all relevant outputs so that your evaluation is complete.\n",
    "   \n",
    " "
   ]
  },
  {
   "cell_type": "code",
   "execution_count": 12,
   "id": "15df7b86",
   "metadata": {},
   "outputs": [
    {
     "name": "stderr",
     "output_type": "stream",
     "text": [
      "/home/nirmalya/.local/lib/python3.8/site-packages/xgboost/core.py:265: FutureWarning: Your system has an old version of glibc (< 2.28). We will stop supporting Linux distros with glibc older than 2.28 after **May 31, 2025**. Please upgrade to a recent Linux distro (with glibc 2.28+) to use future versions of XGBoost.\n",
      "Note: You have installed the 'manylinux2014' variant of XGBoost. Certain features such as GPU algorithms or federated learning are not available. To use these features, please upgrade to a recent Linux distro with glibc 2.28+, and install the 'manylinux_2_28' variant.\n",
      "  warnings.warn(\n"
     ]
    }
   ],
   "source": [
    "\n",
    "import joblib\n",
    "import xgboost as xgb\n",
    "\n"
   ]
  },
  {
   "cell_type": "code",
   "execution_count": 17,
   "id": "9d37af9c",
   "metadata": {},
   "outputs": [],
   "source": [
    "model = xgb.XGBRegressor()\n",
    "model.load_model('/home/nirmalya/Documents/models/xgboost_model.json')"
   ]
  },
  {
   "cell_type": "code",
   "execution_count": 18,
   "id": "3b065131",
   "metadata": {},
   "outputs": [
    {
     "ename": "NameError",
     "evalue": "name 'new_data' is not defined",
     "output_type": "error",
     "traceback": [
      "\u001b[0;31m---------------------------------------------------------------------------\u001b[0m",
      "\u001b[0;31mNameError\u001b[0m                                 Traceback (most recent call last)",
      "Cell \u001b[0;32mIn[18], line 3\u001b[0m\n\u001b[1;32m      1\u001b[0m \u001b[38;5;66;03m# 2. Data Preprocessing\u001b[39;00m\n\u001b[0;32m----> 3\u001b[0m new_data \u001b[38;5;241m=\u001b[39m \u001b[43mnew_data\u001b[49m\u001b[38;5;241m.\u001b[39masfreq(\u001b[38;5;124m'\u001b[39m\u001b[38;5;124mH\u001b[39m\u001b[38;5;124m'\u001b[39m)  \u001b[38;5;66;03m# Resampling if necessary\u001b[39;00m\n\u001b[1;32m      4\u001b[0m new_data\u001b[38;5;241m.\u001b[39mreplace([np\u001b[38;5;241m.\u001b[39minf, \u001b[38;5;241m-\u001b[39mnp\u001b[38;5;241m.\u001b[39minf], np\u001b[38;5;241m.\u001b[39mnan, inplace\u001b[38;5;241m=\u001b[39m\u001b[38;5;28;01mTrue\u001b[39;00m)\n\u001b[1;32m      5\u001b[0m new_data\u001b[38;5;241m.\u001b[39minterpolate(method\u001b[38;5;241m=\u001b[39m\u001b[38;5;124m'\u001b[39m\u001b[38;5;124mlinear\u001b[39m\u001b[38;5;124m'\u001b[39m, inplace\u001b[38;5;241m=\u001b[39m\u001b[38;5;28;01mTrue\u001b[39;00m)\n",
      "\u001b[0;31mNameError\u001b[0m: name 'new_data' is not defined"
     ]
    }
   ],
   "source": [
    "# 2. Data Preprocessing\n",
    "\n",
    "new_data = new_data.asfreq('H')  # Resampling if necessary\n",
    "new_data.replace([np.inf, -np.inf], np.nan, inplace=True)\n",
    "new_data.interpolate(method='linear', inplace=True)\n",
    "new_data.dropna(inplace=True)\n"
   ]
  },
  {
   "cell_type": "code",
   "execution_count": null,
   "id": "bc9013c4",
   "metadata": {},
   "outputs": [],
   "source": []
  }
 ],
 "metadata": {
  "kernelspec": {
   "display_name": "Python 3 (ipykernel)",
   "language": "python",
   "name": "python3"
  },
  "language_info": {
   "codemirror_mode": {
    "name": "ipython",
    "version": 3
   },
   "file_extension": ".py",
   "mimetype": "text/x-python",
   "name": "python",
   "nbconvert_exporter": "python",
   "pygments_lexer": "ipython3",
   "version": "3.8.10"
  }
 },
 "nbformat": 4,
 "nbformat_minor": 5
}
